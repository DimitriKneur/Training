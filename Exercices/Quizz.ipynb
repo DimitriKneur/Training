{
 "cells": [
  {
   "cell_type": "markdown",
   "metadata": {},
   "source": [
    "#Quizz"
   ]
  },
  {
   "cell_type": "code",
   "execution_count": null,
   "metadata": {},
   "outputs": [],
   "source": [
    "#Simple quizz\n",
    "Q_1 = \"Carré de 5 ?\"\n",
    "R_1 = 25\n",
    "Q_2 = \"Capitale FR ?\"\n",
    "R_2 = \"Paris\"\n",
    "Q_3 = \"Couleur ciel ?\"\n",
    "R_3 = \"Bleu\"\n",
    "\n",
    "def quiz():\n",
    "    r1_user = input(Q_1)\n",
    "    while int(r1_user) != R_1:\n",
    "        r1_user = input(Q_1)\n",
    "    \n",
    "    r2_user = input(Q_2)\n",
    "    while r2_user != R_2:\n",
    "        r2_user = input(Q_2)\n",
    "\n",
    "    r3_user = input(Q_3)\n",
    "    while r3_user != R_3:\n",
    "        r3_user = input(Q_3)\n",
    "    \n",
    "    print(\"Bravo.\")"
   ]
  },
  {
   "cell_type": "code",
   "execution_count": null,
   "metadata": {},
   "outputs": [],
   "source": [
    "#Call to simple quizz\n",
    "quiz()"
   ]
  },
  {
   "cell_type": "code",
   "execution_count": 3,
   "metadata": {},
   "outputs": [
    {
     "name": "stdout",
     "output_type": "stream",
     "text": [
      "Hell nah\n",
      "Yep yep\n",
      "Hell nah\n",
      "Congrats, you completed the quizz without dying !\n"
     ]
    }
   ],
   "source": [
    "#Personnalized quizz\n",
    "\n",
    "answer1 = input(\"What is the colour of the white horse of Napoléon ?\")\n",
    "solution1 = \"white\"\n",
    "if answer1 == solution1:\n",
    "    print(\"Yep yep\")\n",
    "else:\n",
    "    print(\"Hell nah\")\n",
    "answer2 = input(\"How many hair does Thanos have ?\")\n",
    "solution2 = \"0\"\n",
    "if answer2 == solution2:\n",
    "    print(\"Yep yep\")\n",
    "else:\n",
    "    print(\"Hell nah\")\n",
    "answer3 = input(\"We are going to die before Luffy becomes the Pirates' King : yes (y) or no (n) ?\")\n",
    "solution3 = \"y\"\n",
    "if answer3 == solution3:\n",
    "    print(\"Yep yep\")\n",
    "else:\n",
    "    print(\"Hell nah\")\n",
    "print(\"Congrats, you completed the quizz without dying !\")"
   ]
  },
  {
   "cell_type": "code",
   "execution_count": 15,
   "metadata": {},
   "outputs": [
    {
     "name": "stdout",
     "output_type": "stream",
     "text": [
      "Yep yep, time to reveal the next question !\n",
      "Okay big boy, let's see if you are a legend of this game !\n",
      "Congrats, you completed the quizz without dying !\n"
     ]
    }
   ],
   "source": [
    "#Personnalized quizz avec loop\n",
    "\n",
    "lives = 3\n",
    "\n",
    "while lives != 0:\n",
    "    answer1 = input(\"What is the colour of the white horse of Napoléon ?\")\n",
    "    solution1 = \"white\"\n",
    "    while answer1 != solution1:\n",
    "        print(\"Hell nah\")\n",
    "        lives = lives - 1\n",
    "        if lives ==0:\n",
    "            break\n",
    "        answer1 = input(\"Once again, what is the colour of the white horse of Napoléon ?\")\n",
    "    if lives ==0:\n",
    "        break\n",
    "    print(\"Yep yep, time to reveal the next question !\")\n",
    "    answer2 = input(\"How many hair does Thanos have ?\")\n",
    "    solution2 = \"0\"\n",
    "    while answer2 != solution2 and lives !=0:\n",
    "        print(\"Hell nah\")\n",
    "        lives = lives - 1\n",
    "        if lives ==0:\n",
    "            break\n",
    "        answer2 = input(\"Once again, how many hair does Thanos have ?\")\n",
    "    if lives ==0:\n",
    "        break\n",
    "    print(\"Okay big boy, let's see if you are a legend of this game !\")\n",
    "    answer3 = input(\"We are going to die before Luffy becomes the Pirates' King : yes (y) or no (n) ?\")\n",
    "    solution3 = \"y\"\n",
    "    while answer3 != solution3:\n",
    "        print(\"Hell nah\")\n",
    "        lives = lives - 1\n",
    "        if lives ==0:\n",
    "            break\n",
    "        answer3 = input(\"Once again, We are going to die before Luffy becomes the Pirates' King : yes (y) or no (n) ?\")\n",
    "    if lives == 0 or answer3 == solution3:\n",
    "        break\n",
    "\n",
    "if lives !=0:\n",
    "    print(\"Congrats, you completed the quizz without dying !\")\n",
    "else:\n",
    "    print(\"Game. OVER. You. LOSER.\")"
   ]
  }
 ],
 "metadata": {
  "kernelspec": {
   "display_name": "base",
   "language": "python",
   "name": "python3"
  },
  "language_info": {
   "codemirror_mode": {
    "name": "ipython",
    "version": 3
   },
   "file_extension": ".py",
   "mimetype": "text/x-python",
   "name": "python",
   "nbconvert_exporter": "python",
   "pygments_lexer": "ipython3",
   "version": "3.11.4"
  }
 },
 "nbformat": 4,
 "nbformat_minor": 2
}
