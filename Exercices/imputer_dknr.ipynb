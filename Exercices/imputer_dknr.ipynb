{
 "cells": [
  {
   "cell_type": "code",
   "execution_count": 1,
   "metadata": {},
   "outputs": [],
   "source": [
    "# class imputer => moyenne\n",
    "\n",
    "class imputer():\n",
    "\n",
    "    # initialisation avec un attribut list\n",
    "    \n",
    "    def __init__(self, list):\n",
    "        self.list = list\n",
    "    \n",
    "    #définition de certaines variables auxquelles on fera référence dans les méthodes moyenne et mediane\n",
    "    \n",
    "    somme = 0\n",
    "    nb_missing = 0\n",
    "    moyenne = 0\n",
    "    list_pure = []\n",
    "    mediane = 0\n",
    "\n",
    "    #moyenne\n",
    "    \n",
    "    def avg(self):\n",
    "        \n",
    "        self.somme = 0\n",
    "        self.nb_missing = 0\n",
    "        \n",
    "        #Etape 1 : boucle pour aller compter la moyenne et le nombre d'éléments autres que du texte\n",
    "        \n",
    "        #Initialisation d'une boucle pour parcourir la liste\n",
    "        for i in self.list:\n",
    "            try:\n",
    "                #Si l'élément i de la liste est un nombre, somme augmente de la valeur de i\n",
    "                self.somme = self.somme + i\n",
    "            except:\n",
    "                #Si l'élément i de la liste n'est pas un nombre, nb_missing augmente de 1\n",
    "                self.nb_missing = self.nb_missing + 1\n",
    "\n",
    "        #Affichage liste initiale, nombre d'éléments de la liste et \n",
    "        print(\"La liste initiale est\", self.list)\n",
    "        print(\"Elle compte\", len(self.list), \"éléments, dont\", self.nb_missing, \"valeurs None\")\n",
    "        \n",
    "        #Calcul moyenne = somme / (nombre d'éléments de la liste - nombre de valeurs None)\n",
    "        self.moyenne = self.somme / (len(self.list)-self.nb_missing)\n",
    "        \n",
    "        #Affichage moyenne\n",
    "        print(\"La moyenne est de\", self.moyenne, \"sans compter les valeurs None\")\n",
    "\n",
    "        #Etape 2 : boucle pour aller remplacer les valeurs None par la moyenne dans la liste \n",
    "        \n",
    "        #Initialisation d'une boucle,\n",
    "        #avec j qui prendra les valeurs allant de 0 jusqu'à (nombre d'éléments de la liste - 1)\n",
    "        for j in range(len(self.list)):\n",
    "            #Si l'élément de la liste dont l'index est j est None\n",
    "            if self.list[j] == None:\n",
    "                    #on remplace l'élément None de la liste dont l'index est j par la moyenne\n",
    "                    self.list[j] = self.moyenne\n",
    "        print(\"En remplaçant les valeurs None par la moyenne, la nouvelle liste est\", self.list)\n",
    "    \n",
    "    #mediane\n",
    "\n",
    "    def med(self):\n",
    "        \n",
    "        #etape 1 : créer une liste sans les valeurs None en gardant la liste initiale\n",
    "\n",
    "        #La list_pure initiale est vide et la médiane initiale est à 0\n",
    "        self.list_pure = []\n",
    "        self.mediane = 0\n",
    "\n",
    "        print(\"La liste initiale est\", self.list)\n",
    "        \n",
    "        #Initialisation d'une boucle où on va parcourir tous les éléments de la liste initiale \n",
    "        #en les appelant par leur index qu'on va appeler h\n",
    "        for h in range(len(self.list)):\n",
    "            #si l'élément de la liste initale dont l'index est h est différent de None,\n",
    "            #on l'ajoute à list_pure\n",
    "            if self.list[h] != None:\n",
    "                self.list_pure.append(self.list[h])\n",
    "            #on affiche list_pure = la liste sans les valeurs None\n",
    "        print(\"Sans les None, la liste devient\", self.list_pure)\n",
    "\n",
    "        #etape 2 : calculer la mediane dans la list_pure sans les valeurs None,\n",
    "        #selon que le nombre d'éléments de la liste soit pair ou impair\n",
    "\n",
    "        if len(self.list_pure) % 2 != 0:\n",
    "            self.mediane = self.list_pure[int((len(self.list_pure) + 1) / 2) - 1]\n",
    "        else:\n",
    "            self.mediane = (self.list_pure[int(len(self.list_pure) / 2) - 1] + self.list_pure[int(len(self.list_pure) / 2)]) / 2\n",
    "        print(\"Sans les None, la médiane est\", self.mediane)\n",
    "        \n",
    "        #etape 3 : remplacer les valeurs None de la liste initiale par la mediane de la liste sans valeurs None\n",
    "        for k in range(len(self.list)):\n",
    "            #Si l'élément de la liste initiale dont l'index est k est None\n",
    "            if self.list[k] == None:\n",
    "                    #on remplace l'élément None de la liste initiale dont l'index est k par la mediane\n",
    "                    self.list[k] = self.mediane\n",
    "        print(\"En remplaçant les valeurs None par la mediane, la nouvelle liste est\", self.list)"
   ]
  },
  {
   "cell_type": "code",
   "execution_count": 2,
   "metadata": {},
   "outputs": [],
   "source": [
    "imputer_inst = imputer([1, 2, 3, 4, 5])"
   ]
  },
  {
   "cell_type": "code",
   "execution_count": 3,
   "metadata": {},
   "outputs": [
    {
     "name": "stdout",
     "output_type": "stream",
     "text": [
      "[1, 2, 3, 4, 5]\n"
     ]
    }
   ],
   "source": [
    "print(imputer_inst.list)"
   ]
  },
  {
   "cell_type": "code",
   "execution_count": 4,
   "metadata": {},
   "outputs": [
    {
     "name": "stdout",
     "output_type": "stream",
     "text": [
      "La liste initiale est [1, 2, 3, 4, 5]\n",
      "Elle compte 5 éléments, dont 0 valeurs None\n",
      "La moyenne est de 3.0 sans compter les valeurs None\n",
      "En remplaçant les valeurs None par la moyenne, la nouvelle liste est [1, 2, 3, 4, 5]\n"
     ]
    }
   ],
   "source": [
    "imputer_inst.avg()"
   ]
  },
  {
   "cell_type": "code",
   "execution_count": 5,
   "metadata": {},
   "outputs": [],
   "source": [
    "imputer_inst2 = imputer([\"abc\", 2, 4, 6, None])"
   ]
  },
  {
   "cell_type": "code",
   "execution_count": 6,
   "metadata": {},
   "outputs": [
    {
     "name": "stdout",
     "output_type": "stream",
     "text": [
      "['abc', 2, 4, 6, None]\n"
     ]
    }
   ],
   "source": [
    "print(imputer_inst2.list)"
   ]
  },
  {
   "cell_type": "code",
   "execution_count": 7,
   "metadata": {},
   "outputs": [
    {
     "name": "stdout",
     "output_type": "stream",
     "text": [
      "La liste initiale est ['abc', 2, 4, 6, None]\n",
      "Elle compte 5 éléments, dont 2 valeurs None\n",
      "La moyenne est de 4.0 sans compter les valeurs None\n",
      "En remplaçant les valeurs None par la moyenne, la nouvelle liste est ['abc', 2, 4, 6, 4.0]\n"
     ]
    }
   ],
   "source": [
    "imputer_inst2.avg()"
   ]
  },
  {
   "cell_type": "code",
   "execution_count": 8,
   "metadata": {},
   "outputs": [
    {
     "name": "stdout",
     "output_type": "stream",
     "text": [
      "['abc', 2, 4, 6, 4.0]\n"
     ]
    }
   ],
   "source": [
    "print(imputer_inst2.list)"
   ]
  },
  {
   "cell_type": "code",
   "execution_count": 9,
   "metadata": {},
   "outputs": [],
   "source": [
    "imputer_inst3 = imputer([None, 4, 11, 14, 28, 1245, None])"
   ]
  },
  {
   "cell_type": "code",
   "execution_count": 10,
   "metadata": {},
   "outputs": [
    {
     "name": "stdout",
     "output_type": "stream",
     "text": [
      "[None, 4, 11, 14, 28, 1245, None]\n"
     ]
    }
   ],
   "source": [
    "print(imputer_inst3.list)"
   ]
  },
  {
   "cell_type": "code",
   "execution_count": 11,
   "metadata": {},
   "outputs": [
    {
     "name": "stdout",
     "output_type": "stream",
     "text": [
      "La liste initiale est [None, 4, 11, 14, 28, 1245, None]\n",
      "Sans les None, la liste devient [4, 11, 14, 28, 1245]\n",
      "Sans les None, la médiane est 14\n",
      "En remplaçant les valeurs None par la mediane, la nouvelle liste est [14, 4, 11, 14, 28, 1245, 14]\n"
     ]
    }
   ],
   "source": [
    "imputer_inst3.med()"
   ]
  },
  {
   "cell_type": "code",
   "execution_count": 211,
   "metadata": {},
   "outputs": [],
   "source": [
    "imputer_inst4 = imputer([1, 2, None, 3, 4, None, 5, 6])"
   ]
  },
  {
   "cell_type": "code",
   "execution_count": 212,
   "metadata": {},
   "outputs": [
    {
     "name": "stdout",
     "output_type": "stream",
     "text": [
      "[1, 2, None, 3, 4, None, 5, 6]\n"
     ]
    }
   ],
   "source": [
    "print(imputer_inst4.list)"
   ]
  },
  {
   "cell_type": "code",
   "execution_count": 213,
   "metadata": {},
   "outputs": [
    {
     "name": "stdout",
     "output_type": "stream",
     "text": [
      "La liste initiale est [1, 2, None, 3, 4, None, 5, 6]\n",
      "Sans les None, la liste devient [1, 2, 3, 4, 5, 6]\n",
      "Sans les None, la médiane est 3.5\n",
      "En remplaçant les valeurs None par la mediane, la nouvelle liste est [1, 2, 3.5, 3, 4, 3.5, 5, 6]\n"
     ]
    }
   ],
   "source": [
    "imputer_inst4.med()"
   ]
  }
 ],
 "metadata": {
  "kernelspec": {
   "display_name": "base",
   "language": "python",
   "name": "python3"
  },
  "language_info": {
   "codemirror_mode": {
    "name": "ipython",
    "version": 3
   },
   "file_extension": ".py",
   "mimetype": "text/x-python",
   "name": "python",
   "nbconvert_exporter": "python",
   "pygments_lexer": "ipython3",
   "version": "3.12.0"
  }
 },
 "nbformat": 4,
 "nbformat_minor": 2
}
