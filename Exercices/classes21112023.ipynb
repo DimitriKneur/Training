{
 "cells": [
  {
   "cell_type": "code",
   "execution_count": 1,
   "metadata": {},
   "outputs": [],
   "source": [
    "#Définition d'une classe\n",
    "class Voiture():#création d'une classe\n",
    "\n",
    "    def __init__(self, couleur, vitesse_max, modele): #création des attributs = variables contenues dans des fonctions\n",
    "        self.couleur = couleur #création de l'attribut couleur\n",
    "        self.vitesse_max = vitesse_max #création de l'attribut vitesse_max\n",
    "        self.modele = modele #création de l'attribut modele\n",
    "    \n",
    "    def trajet(self, depart, arrivee, distance): #définition d'une méthode = fonction contenue dans une classe\n",
    "        print(\"Destination :\", arrivee)\n",
    "        print(\"La distance parcourue sera de\", distance)\n",
    "        self.depart = depart\n",
    "        self.arrivee = arrivee\n",
    "        self.distance = distance"
   ]
  },
  {
   "cell_type": "code",
   "execution_count": 2,
   "metadata": {},
   "outputs": [],
   "source": [
    "voiture_1 = Voiture(couleur='rouge', vitesse_max=250, modele='Clio 2') # instanctation de l'objet / création d'une instance de la classe"
   ]
  },
  {
   "cell_type": "code",
   "execution_count": 3,
   "metadata": {},
   "outputs": [
    {
     "data": {
      "text/plain": [
       "['__class__',\n",
       " '__delattr__',\n",
       " '__dict__',\n",
       " '__dir__',\n",
       " '__doc__',\n",
       " '__eq__',\n",
       " '__format__',\n",
       " '__ge__',\n",
       " '__getattribute__',\n",
       " '__getstate__',\n",
       " '__gt__',\n",
       " '__hash__',\n",
       " '__init__',\n",
       " '__init_subclass__',\n",
       " '__le__',\n",
       " '__lt__',\n",
       " '__module__',\n",
       " '__ne__',\n",
       " '__new__',\n",
       " '__reduce__',\n",
       " '__reduce_ex__',\n",
       " '__repr__',\n",
       " '__setattr__',\n",
       " '__sizeof__',\n",
       " '__str__',\n",
       " '__subclasshook__',\n",
       " '__weakref__',\n",
       " 'couleur',\n",
       " 'modele',\n",
       " 'trajet',\n",
       " 'vitesse_max']"
      ]
     },
     "execution_count": 3,
     "metadata": {},
     "output_type": "execute_result"
    }
   ],
   "source": [
    "#Affichage liste attributs\n",
    "dir(voiture_1)"
   ]
  },
  {
   "cell_type": "code",
   "execution_count": 4,
   "metadata": {},
   "outputs": [
    {
     "name": "stdout",
     "output_type": "stream",
     "text": [
      "Destination : Lyon\n",
      "La distance parcourue sera de 1000\n"
     ]
    }
   ],
   "source": [
    "voiture_1.trajet(\"Paris\", \"Lyon\", 1000) #utilisation d'une méthode"
   ]
  },
  {
   "cell_type": "code",
   "execution_count": 5,
   "metadata": {},
   "outputs": [
    {
     "data": {
      "text/plain": [
       "1000"
      ]
     },
     "execution_count": 5,
     "metadata": {},
     "output_type": "execute_result"
    }
   ],
   "source": [
    "voiture_1.distance #appel d'un attribut"
   ]
  },
  {
   "cell_type": "code",
   "execution_count": 6,
   "metadata": {},
   "outputs": [
    {
     "data": {
      "text/plain": [
       "['__class__',\n",
       " '__delattr__',\n",
       " '__dict__',\n",
       " '__dir__',\n",
       " '__doc__',\n",
       " '__eq__',\n",
       " '__format__',\n",
       " '__ge__',\n",
       " '__getattribute__',\n",
       " '__getstate__',\n",
       " '__gt__',\n",
       " '__hash__',\n",
       " '__init__',\n",
       " '__init_subclass__',\n",
       " '__le__',\n",
       " '__lt__',\n",
       " '__module__',\n",
       " '__ne__',\n",
       " '__new__',\n",
       " '__reduce__',\n",
       " '__reduce_ex__',\n",
       " '__repr__',\n",
       " '__setattr__',\n",
       " '__sizeof__',\n",
       " '__str__',\n",
       " '__subclasshook__',\n",
       " '__weakref__',\n",
       " 'arrivee',\n",
       " 'couleur',\n",
       " 'depart',\n",
       " 'distance',\n",
       " 'modele',\n",
       " 'trajet',\n",
       " 'vitesse_max']"
      ]
     },
     "execution_count": 6,
     "metadata": {},
     "output_type": "execute_result"
    }
   ],
   "source": [
    "#affichage de tous les attributs d'un objet pour voir apparaître les attributs arrivée, départ et distance\n",
    "dir(voiture_1)"
   ]
  },
  {
   "cell_type": "code",
   "execution_count": 7,
   "metadata": {},
   "outputs": [
    {
     "data": {
      "text/plain": [
       "'rouge'"
      ]
     },
     "execution_count": 7,
     "metadata": {},
     "output_type": "execute_result"
    }
   ],
   "source": [
    "voiture_1.couleur"
   ]
  },
  {
   "cell_type": "code",
   "execution_count": 8,
   "metadata": {},
   "outputs": [
    {
     "data": {
      "text/plain": [
       "250"
      ]
     },
     "execution_count": 8,
     "metadata": {},
     "output_type": "execute_result"
    }
   ],
   "source": [
    "voiture_1.vitesse_max"
   ]
  },
  {
   "cell_type": "code",
   "execution_count": 9,
   "metadata": {},
   "outputs": [
    {
     "data": {
      "text/plain": [
       "'Clio 2'"
      ]
     },
     "execution_count": 9,
     "metadata": {},
     "output_type": "execute_result"
    }
   ],
   "source": [
    "voiture_1.modele"
   ]
  },
  {
   "cell_type": "code",
   "execution_count": 10,
   "metadata": {},
   "outputs": [
    {
     "data": {
      "text/plain": [
       "['__class__',\n",
       " '__delattr__',\n",
       " '__dict__',\n",
       " '__dir__',\n",
       " '__doc__',\n",
       " '__eq__',\n",
       " '__format__',\n",
       " '__ge__',\n",
       " '__getattribute__',\n",
       " '__getstate__',\n",
       " '__gt__',\n",
       " '__hash__',\n",
       " '__init__',\n",
       " '__init_subclass__',\n",
       " '__le__',\n",
       " '__lt__',\n",
       " '__module__',\n",
       " '__ne__',\n",
       " '__new__',\n",
       " '__reduce__',\n",
       " '__reduce_ex__',\n",
       " '__repr__',\n",
       " '__setattr__',\n",
       " '__sizeof__',\n",
       " '__str__',\n",
       " '__subclasshook__',\n",
       " '__weakref__',\n",
       " 'arrivee',\n",
       " 'couleur',\n",
       " 'depart',\n",
       " 'distance',\n",
       " 'marque',\n",
       " 'modele',\n",
       " 'trajet',\n",
       " 'vitesse_max']"
      ]
     },
     "execution_count": 10,
     "metadata": {},
     "output_type": "execute_result"
    }
   ],
   "source": [
    "#ajout d'un attribut à une classe en dehors de la définition\n",
    "voiture_1.marque = 'Renault'\n",
    "dir(voiture_1)"
   ]
  },
  {
   "cell_type": "markdown",
   "metadata": {},
   "source": [
    "Création d'un objet de type humain\n",
    "1) Créer une classe humain\n",
    "2) Créer les attributs \"nom\", \"ville\", \"date de naissance\", \"solde\"\n",
    "3) Créer une méthode qui ajoute ou retire de l'argent sur le solde de l'humain"
   ]
  },
  {
   "cell_type": "code",
   "execution_count": 11,
   "metadata": {},
   "outputs": [],
   "source": [
    "class Humain:\n",
    "    def __init__(self, nom, ville='Paris', naissance='01/01/2000', solde=500): # si on met une valeur par défaut à un attribut, \n",
    "                                                      # à partir de sa position, il faut mettre un argument à tous les autres attributs après\n",
    "        self.nom = nom\n",
    "        self.ville = ville\n",
    "        self.naissance = naissance\n",
    "        self.solde = solde\n",
    "    \n",
    "    def banque(self, montant=0):\n",
    "        self.solde = self.solde + montant\n",
    "        print(\"Votre solde est de :\", self.solde)"
   ]
  },
  {
   "cell_type": "code",
   "execution_count": 12,
   "metadata": {},
   "outputs": [],
   "source": [
    "persona_1 = Humain(\"Dimdim\", solde=1000)\n",
    "persona_2 = Humain(\"Lisa\")"
   ]
  },
  {
   "cell_type": "code",
   "execution_count": 13,
   "metadata": {},
   "outputs": [
    {
     "name": "stdout",
     "output_type": "stream",
     "text": [
      "Votre solde est de : 1050\n"
     ]
    }
   ],
   "source": [
    "persona_1.banque(50)"
   ]
  },
  {
   "cell_type": "code",
   "execution_count": 14,
   "metadata": {},
   "outputs": [
    {
     "data": {
      "text/plain": [
       "1050"
      ]
     },
     "execution_count": 14,
     "metadata": {},
     "output_type": "execute_result"
    }
   ],
   "source": [
    "persona_1.solde"
   ]
  }
 ],
 "metadata": {
  "kernelspec": {
   "display_name": "base",
   "language": "python",
   "name": "python3"
  },
  "language_info": {
   "codemirror_mode": {
    "name": "ipython",
    "version": 3
   },
   "file_extension": ".py",
   "mimetype": "text/x-python",
   "name": "python",
   "nbconvert_exporter": "python",
   "pygments_lexer": "ipython3",
   "version": "3.12.0"
  }
 },
 "nbformat": 4,
 "nbformat_minor": 2
}
