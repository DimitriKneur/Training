{
  "nbformat": 4,
  "nbformat_minor": 0,
  "metadata": {
    "colab": {
      "provenance": []
    },
    "kernelspec": {
      "name": "python3",
      "display_name": "Python 3"
    },
    "language_info": {
      "name": "python"
    }
  },
  "cells": [
    {
      "cell_type": "markdown",
      "source": [
        "#Présentation de **Python**"
      ],
      "metadata": {
        "id": "SGpg7N5B7x_T"
      }
    },
    {
      "cell_type": "markdown",
      "source": [
        "#Titre 1\n",
        "\n",
        "##Titre 2\n",
        "\n",
        "###Titre 3\n",
        "\n",
        "**Gras**\n",
        "\n",
        "Hello World\n",
        "\n",
        "Majuscule (touche Shift) + Entrée => Valider le bloc de texte / code et passer au suivant"
      ],
      "metadata": {
        "id": "5tEcuxj05ple"
      }
    },
    {
      "cell_type": "code",
      "execution_count": null,
      "metadata": {
        "id": "74lvx_ix4yuW",
        "colab": {
          "base_uri": "https://localhost:8080/"
        },
        "outputId": "92243e5e-e911-42ae-f34b-5465dd912c70"
      },
      "outputs": [
        {
          "output_type": "stream",
          "name": "stdout",
          "text": [
            "Hello World !\n"
          ]
        }
      ],
      "source": [
        "print(\"Hello World !\")"
      ]
    },
    {
      "cell_type": "markdown",
      "source": [
        "#Data Type: **String** -> Chaîne de caractères"
      ],
      "metadata": {
        "id": "1fC_zdJB7iQs"
      }
    },
    {
      "cell_type": "code",
      "source": [
        "\"Je suis Dimitri\""
      ],
      "metadata": {
        "id": "xIEbuoUh8BrR",
        "colab": {
          "base_uri": "https://localhost:8080/",
          "height": 36
        },
        "outputId": "a3ea6d09-7df2-4898-a826-feb2bd63b13d"
      },
      "execution_count": 1,
      "outputs": [
        {
          "output_type": "execute_result",
          "data": {
            "text/plain": [
              "'Je suis Dimitri'"
            ],
            "application/vnd.google.colaboratory.intrinsic+json": {
              "type": "string"
            }
          },
          "metadata": {},
          "execution_count": 1
        }
      ]
    },
    {
      "cell_type": "code",
      "source": [
        "'Je suis Dimitri'"
      ],
      "metadata": {
        "id": "HlLLCu388In2"
      },
      "execution_count": null,
      "outputs": []
    },
    {
      "cell_type": "markdown",
      "source": [
        "Attention : si dans le texte à saisir il y a une apostrophe, il vaut mieux utiliser les double quotes pour éviter le bug."
      ],
      "metadata": {
        "id": "28HqADqb8Q-7"
      }
    },
    {
      "cell_type": "code",
      "source": [
        "print('J'y suis')"
      ],
      "metadata": {
        "colab": {
          "base_uri": "https://localhost:8080/",
          "height": 140
        },
        "id": "vJcQh78-8l1R",
        "outputId": "4a702e78-e495-40f1-8d75-4a7495403f4d"
      },
      "execution_count": null,
      "outputs": [
        {
          "output_type": "error",
          "ename": "SyntaxError",
          "evalue": "ignored",
          "traceback": [
            "\u001b[0;36m  File \u001b[0;32m\"<ipython-input-2-c41b3700c1ca>\"\u001b[0;36m, line \u001b[0;32m1\u001b[0m\n\u001b[0;31m    print('J'y suis')\u001b[0m\n\u001b[0m                   ^\u001b[0m\n\u001b[0;31mSyntaxError\u001b[0m\u001b[0;31m:\u001b[0m unterminated string literal (detected at line 1)\n"
          ]
        }
      ]
    },
    {
      "cell_type": "code",
      "source": [
        "print(\"J'y suis\")"
      ],
      "metadata": {
        "colab": {
          "base_uri": "https://localhost:8080/"
        },
        "id": "vgi-1Pr48wX2",
        "outputId": "31e0a47a-7d1c-4714-fb82-9e978f5a9382"
      },
      "execution_count": null,
      "outputs": [
        {
          "output_type": "stream",
          "name": "stdout",
          "text": [
            "J'y suis\n"
          ]
        }
      ]
    },
    {
      "cell_type": "markdown",
      "source": [
        "Affectation à une variable"
      ],
      "metadata": {
        "id": "eKs2YYu482h3"
      }
    },
    {
      "cell_type": "code",
      "source": [
        "#Pour écrire un commentaire dans du code, # puis on écrit le commentaire\n",
        "#Création d'une variable et affectation d'une valeur\n",
        "bjr = \"Wassup homies\"\n",
        "print(bjr)\n",
        "#Nomenclature pour nommer les variables : avec des \"_\" entre les mots, jamais d'espace"
      ],
      "metadata": {
        "colab": {
          "base_uri": "https://localhost:8080/"
        },
        "id": "Dj6I3tO1872O",
        "outputId": "fe10ceba-7009-4fbb-d2cd-37029cef9791"
      },
      "execution_count": null,
      "outputs": [
        {
          "output_type": "stream",
          "name": "stdout",
          "text": [
            "Wassup homies\n"
          ]
        }
      ]
    },
    {
      "cell_type": "code",
      "source": [
        "#Concaténation de 2 chaines de caractères\n",
        "print(\"B\",\"A\")"
      ],
      "metadata": {
        "colab": {
          "base_uri": "https://localhost:8080/"
        },
        "id": "vmlvcHvw_hb1",
        "outputId": "413d38c2-1488-4c1a-ad32-0050c0acd3ab"
      },
      "execution_count": null,
      "outputs": [
        {
          "output_type": "stream",
          "name": "stdout",
          "text": [
            "B A\n"
          ]
        }
      ]
    },
    {
      "cell_type": "markdown",
      "source": [
        "#Data Type : **Integer** (nombre entier)"
      ],
      "metadata": {
        "id": "p4iZaoLd92bO"
      }
    },
    {
      "cell_type": "code",
      "source": [
        "a = 5\n",
        "print(a)"
      ],
      "metadata": {
        "colab": {
          "base_uri": "https://localhost:8080/"
        },
        "id": "GUSZeaT9-Gey",
        "outputId": "70696ba8-81b9-426d-d60c-add32c06467a"
      },
      "execution_count": null,
      "outputs": [
        {
          "output_type": "stream",
          "name": "stdout",
          "text": [
            "5\n"
          ]
        }
      ]
    },
    {
      "cell_type": "code",
      "source": [
        "#Addition\n",
        "print(a+5)"
      ],
      "metadata": {
        "colab": {
          "base_uri": "https://localhost:8080/"
        },
        "id": "81Vp6O12-NLd",
        "outputId": "bc6d1be3-1f33-4952-a00e-4d03dd6b6cf0"
      },
      "execution_count": null,
      "outputs": [
        {
          "output_type": "stream",
          "name": "stdout",
          "text": [
            "10\n"
          ]
        }
      ]
    },
    {
      "cell_type": "code",
      "source": [
        "#Soustraction\n",
        "print(a-10)"
      ],
      "metadata": {
        "colab": {
          "base_uri": "https://localhost:8080/"
        },
        "id": "an4O6cgp-gDP",
        "outputId": "fe092a18-1353-4aa5-c996-122dd749e77f"
      },
      "execution_count": null,
      "outputs": [
        {
          "output_type": "stream",
          "name": "stdout",
          "text": [
            "-5\n"
          ]
        }
      ]
    },
    {
      "cell_type": "code",
      "source": [
        "#Multiplication\n",
        "print(a*2)"
      ],
      "metadata": {
        "colab": {
          "base_uri": "https://localhost:8080/"
        },
        "id": "wt-vwB0J-nAU",
        "outputId": "d9c934b5-58ab-438a-ff99-359c86ae8e82"
      },
      "execution_count": null,
      "outputs": [
        {
          "output_type": "stream",
          "name": "stdout",
          "text": [
            "10\n"
          ]
        }
      ]
    },
    {
      "cell_type": "code",
      "source": [
        "#Division\n",
        "print(a/2)"
      ],
      "metadata": {
        "colab": {
          "base_uri": "https://localhost:8080/"
        },
        "id": "zhkc58tt-wTh",
        "outputId": "02bd91e2-8f44-46c7-df07-c0c166373676"
      },
      "execution_count": null,
      "outputs": [
        {
          "output_type": "stream",
          "name": "stdout",
          "text": [
            "2.5\n"
          ]
        }
      ]
    },
    {
      "cell_type": "code",
      "source": [
        "int()"
      ],
      "metadata": {
        "id": "ERWpB1BTGyI3",
        "colab": {
          "base_uri": "https://localhost:8080/"
        },
        "outputId": "278b794a-04d7-4a7b-bf0f-50f0ba777d25"
      },
      "execution_count": 2,
      "outputs": [
        {
          "output_type": "execute_result",
          "data": {
            "text/plain": [
              "0"
            ]
          },
          "metadata": {},
          "execution_count": 2
        }
      ]
    },
    {
      "cell_type": "markdown",
      "source": [
        "#Data Type : **Float** (nombre à virgule)"
      ],
      "metadata": {
        "id": "4Nq-riuB_OnR"
      }
    },
    {
      "cell_type": "code",
      "source": [
        "#Soit b un nombre à Virgule flottant -> Float\n",
        "b = a / 2\n",
        "print(b)"
      ],
      "metadata": {
        "colab": {
          "base_uri": "https://localhost:8080/"
        },
        "id": "J3QucUb--39l",
        "outputId": "61a5e297-fee0-4262-e691-ca91f46dd9b8"
      },
      "execution_count": null,
      "outputs": [
        {
          "output_type": "stream",
          "name": "stdout",
          "text": [
            "2.5\n"
          ]
        }
      ]
    },
    {
      "cell_type": "code",
      "source": [
        "a = 30.428\n",
        "round(a, 2)"
      ],
      "metadata": {
        "colab": {
          "base_uri": "https://localhost:8080/"
        },
        "id": "dJrN03gwHh9O",
        "outputId": "bc61201b-9505-42f7-c313-33fac125d63c"
      },
      "execution_count": null,
      "outputs": [
        {
          "output_type": "execute_result",
          "data": {
            "text/plain": [
              "30.43"
            ]
          },
          "metadata": {},
          "execution_count": 5
        }
      ]
    },
    {
      "cell_type": "markdown",
      "source": [
        "#Data Type : **Liste**"
      ],
      "metadata": {
        "id": "e9lv6eEC_z9q"
      }
    },
    {
      "cell_type": "code",
      "source": [
        "user_data = [\"Dimitri\", 29, \"Paris\", \"Hardworker\"]"
      ],
      "metadata": {
        "id": "7D4NaRPR_6nB"
      },
      "execution_count": null,
      "outputs": []
    },
    {
      "cell_type": "code",
      "source": [
        "print(user_data)"
      ],
      "metadata": {
        "colab": {
          "base_uri": "https://localhost:8080/"
        },
        "id": "Ac7KC-63AQ-P",
        "outputId": "4a60f0b5-7505-4b9c-c2de-e82e064c6c67"
      },
      "execution_count": null,
      "outputs": [
        {
          "output_type": "stream",
          "name": "stdout",
          "text": [
            "['Dimitri', 29, 'Paris', 'Hardworker']\n"
          ]
        }
      ]
    },
    {
      "cell_type": "code",
      "source": [
        "#Accéder à un élément d'une liste : utilisation des index\n",
        "#Accès au prénom\n",
        "print(user_data[0])"
      ],
      "metadata": {
        "colab": {
          "base_uri": "https://localhost:8080/"
        },
        "id": "oMHcnO3gATdo",
        "outputId": "801c0614-ab54-4b94-e454-0923e6b64754"
      },
      "execution_count": null,
      "outputs": [
        {
          "output_type": "stream",
          "name": "stdout",
          "text": [
            "Dimitri\n"
          ]
        }
      ]
    },
    {
      "cell_type": "code",
      "source": [
        "#Accéder à un élément d'une liste : utilisation des index\n",
        "#Accès au métier\n",
        "print(user_data[3])"
      ],
      "metadata": {
        "colab": {
          "base_uri": "https://localhost:8080/"
        },
        "outputId": "5330df31-8680-4b38-bdd4-7143336cab36",
        "id": "etcVOp3jA03W"
      },
      "execution_count": null,
      "outputs": [
        {
          "output_type": "stream",
          "name": "stdout",
          "text": [
            "Hardworker\n"
          ]
        }
      ]
    },
    {
      "cell_type": "markdown",
      "source": [
        "#Data Type : **Dictionnaire** = ensemble d'associations clés / valeurs"
      ],
      "metadata": {
        "id": "ayRJcCByBZKS"
      }
    },
    {
      "cell_type": "code",
      "source": [
        "user_infos={\"Nom\":\"Dimitri\",\n",
        "            \"Âge\":29,\n",
        "            \"Ville\":\"Paris\",\n",
        "            \"Job\":\"Data Analyst\"}"
      ],
      "metadata": {
        "id": "lZR2Xcg6Bko9"
      },
      "execution_count": 4,
      "outputs": []
    },
    {
      "cell_type": "code",
      "source": [
        "print(user_infos[\"Nom\"])"
      ],
      "metadata": {
        "colab": {
          "base_uri": "https://localhost:8080/"
        },
        "id": "b9xLLc9SCNfm",
        "outputId": "f38e3468-068b-49bd-d4ca-e077575319f9"
      },
      "execution_count": 5,
      "outputs": [
        {
          "output_type": "stream",
          "name": "stdout",
          "text": [
            "Dimitri\n"
          ]
        }
      ]
    },
    {
      "cell_type": "code",
      "source": [
        "#Afficher toutes les clés d'un dictionnaire\n",
        "print(user_infos.keys())"
      ],
      "metadata": {
        "colab": {
          "base_uri": "https://localhost:8080/"
        },
        "id": "Ag_abmlsCxK5",
        "outputId": "ca170290-093f-4e8d-e199-55f5ead48ee2"
      },
      "execution_count": 6,
      "outputs": [
        {
          "output_type": "stream",
          "name": "stdout",
          "text": [
            "dict_keys(['Nom', 'Âge', 'Ville', 'Job'])\n"
          ]
        }
      ]
    },
    {
      "cell_type": "code",
      "source": [
        "#Afficher toutes les valeurs d'un dictionnaire\n",
        "print(user_infos.values())"
      ],
      "metadata": {
        "colab": {
          "base_uri": "https://localhost:8080/"
        },
        "id": "E-alJNMkDC4x",
        "outputId": "d31e9675-f46f-4d23-d936-89e369eaf7cc"
      },
      "execution_count": null,
      "outputs": [
        {
          "output_type": "stream",
          "name": "stdout",
          "text": [
            "dict_values(['Dimitri', 29, 'Paris', 'Data Analyst'])\n"
          ]
        }
      ]
    },
    {
      "cell_type": "code",
      "source": [
        "#Affichage de toutes les variables créées\n",
        "%whos"
      ],
      "metadata": {
        "colab": {
          "base_uri": "https://localhost:8080/"
        },
        "id": "ys2uzSIHDXfN",
        "outputId": "095b4306-da65-4a19-83b8-5ae61fbca972"
      },
      "execution_count": null,
      "outputs": [
        {
          "output_type": "stream",
          "name": "stdout",
          "text": [
            "Variable     Type     Data/Info\n",
            "-------------------------------\n",
            "a            int      5\n",
            "b            float    2.5\n",
            "bjr          str      Wassup homies\n",
            "user_data    list     n=4\n",
            "user_infos   dict     n=4\n"
          ]
        }
      ]
    },
    {
      "cell_type": "markdown",
      "source": [
        "#Data Type : **Booléen**"
      ],
      "metadata": {
        "id": "DuDgNo2AEKFB"
      }
    },
    {
      "cell_type": "code",
      "source": [
        "#Les Booléens ne prennent que 2 valeurs : True ou False\n",
        "value_1 = True\n",
        "value_2 = False\n",
        "\n",
        "print(value_1)"
      ],
      "metadata": {
        "colab": {
          "base_uri": "https://localhost:8080/"
        },
        "id": "yzySp8hFEVUy",
        "outputId": "ba1ab2bd-f999-48c8-b74b-d62f81357cd3"
      },
      "execution_count": null,
      "outputs": [
        {
          "output_type": "stream",
          "name": "stdout",
          "text": [
            "True\n"
          ]
        }
      ]
    },
    {
      "cell_type": "code",
      "source": [
        "j = 10\n",
        "float(j)"
      ],
      "metadata": {
        "colab": {
          "base_uri": "https://localhost:8080/"
        },
        "id": "A2CzbMGsGJE2",
        "outputId": "eb51a1c6-b509-406f-a300-9849e56c936a"
      },
      "execution_count": null,
      "outputs": [
        {
          "output_type": "execute_result",
          "data": {
            "text/plain": [
              "10.0"
            ]
          },
          "metadata": {},
          "execution_count": 3
        }
      ]
    },
    {
      "cell_type": "markdown",
      "source": [
        "#Data Type : **Tuple**"
      ],
      "metadata": {
        "id": "65nQmrcVDl5_"
      }
    },
    {
      "cell_type": "code",
      "source": [
        "tuple_1 = (1, 2, 3)\n",
        "print(tuple_1)"
      ],
      "metadata": {
        "colab": {
          "base_uri": "https://localhost:8080/"
        },
        "id": "CbA7bVblDoTa",
        "outputId": "b44e64b7-08f5-4a05-fc1f-048ddde20487"
      },
      "execution_count": null,
      "outputs": [
        {
          "output_type": "stream",
          "name": "stdout",
          "text": [
            "(1, 2, 3)\n"
          ]
        }
      ]
    }
  ]
}